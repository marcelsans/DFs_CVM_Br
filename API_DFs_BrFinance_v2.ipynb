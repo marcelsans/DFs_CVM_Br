{
 "cells": [
  {
   "cell_type": "code",
   "execution_count": 43,
   "id": "0b215fa5",
   "metadata": {},
   "outputs": [
    {
     "name": "stdout",
     "output_type": "stream",
     "text": [
      "Qual o ano inicial para a pesquisa? 2010\n"
     ]
    },
    {
     "name": "stderr",
     "output_type": "stream",
     "text": [
      "/Library/Frameworks/Python.framework/Versions/3.11/lib/python3.11/site-packages/brfinance/responses.py:78: FutureWarning: The frame.append method is deprecated and will be removed from pandas in a future version. Use pandas.concat instead.\n",
      "  response_df = response_df.append(search_results_df)\n",
      "/Library/Frameworks/Python.framework/Versions/3.11/lib/python3.11/site-packages/brfinance/responses.py:127: FutureWarning: DataFrame.set_axis 'inplace' keyword is deprecated and will be removed in a future version. Use `obj = obj.set_axis(..., copy=False)` instead\n",
      "  df.set_axis([*df.columns[:-1], 'Valor'], axis=1, inplace=True)\n",
      "/Library/Frameworks/Python.framework/Versions/3.11/lib/python3.11/site-packages/brfinance/responses.py:127: FutureWarning: DataFrame.set_axis 'inplace' keyword is deprecated and will be removed in a future version. Use `obj = obj.set_axis(..., copy=False)` instead\n",
      "  df.set_axis([*df.columns[:-1], 'Valor'], axis=1, inplace=True)\n",
      "/Library/Frameworks/Python.framework/Versions/3.11/lib/python3.11/site-packages/brfinance/responses.py:127: FutureWarning: DataFrame.set_axis 'inplace' keyword is deprecated and will be removed in a future version. Use `obj = obj.set_axis(..., copy=False)` instead\n",
      "  df.set_axis([*df.columns[:-1], 'Valor'], axis=1, inplace=True)\n",
      "/Library/Frameworks/Python.framework/Versions/3.11/lib/python3.11/site-packages/brfinance/responses.py:127: FutureWarning: DataFrame.set_axis 'inplace' keyword is deprecated and will be removed in a future version. Use `obj = obj.set_axis(..., copy=False)` instead\n",
      "  df.set_axis([*df.columns[:-1], 'Valor'], axis=1, inplace=True)\n"
     ]
    },
    {
     "name": "stdout",
     "output_type": "stream",
     "text": [
      "Balanço Patrimonial Ativo\n",
      "Balanço Patrimonial Passivo\n",
      "Demonstração do Resultado\n",
      "Demonstração do Fluxo de Caixa\n"
     ]
    },
    {
     "name": "stderr",
     "output_type": "stream",
     "text": [
      "/Library/Frameworks/Python.framework/Versions/3.11/lib/python3.11/site-packages/brfinance/responses.py:127: FutureWarning: DataFrame.set_axis 'inplace' keyword is deprecated and will be removed in a future version. Use `obj = obj.set_axis(..., copy=False)` instead\n",
      "  df.set_axis([*df.columns[:-1], 'Valor'], axis=1, inplace=True)\n",
      "/Library/Frameworks/Python.framework/Versions/3.11/lib/python3.11/site-packages/brfinance/responses.py:127: FutureWarning: DataFrame.set_axis 'inplace' keyword is deprecated and will be removed in a future version. Use `obj = obj.set_axis(..., copy=False)` instead\n",
      "  df.set_axis([*df.columns[:-1], 'Valor'], axis=1, inplace=True)\n",
      "/Library/Frameworks/Python.framework/Versions/3.11/lib/python3.11/site-packages/brfinance/responses.py:127: FutureWarning: DataFrame.set_axis 'inplace' keyword is deprecated and will be removed in a future version. Use `obj = obj.set_axis(..., copy=False)` instead\n",
      "  df.set_axis([*df.columns[:-1], 'Valor'], axis=1, inplace=True)\n",
      "/Library/Frameworks/Python.framework/Versions/3.11/lib/python3.11/site-packages/brfinance/responses.py:127: FutureWarning: DataFrame.set_axis 'inplace' keyword is deprecated and will be removed in a future version. Use `obj = obj.set_axis(..., copy=False)` instead\n",
      "  df.set_axis([*df.columns[:-1], 'Valor'], axis=1, inplace=True)\n"
     ]
    },
    {
     "name": "stdout",
     "output_type": "stream",
     "text": [
      "Balanço Patrimonial Ativo\n",
      "Balanço Patrimonial Passivo\n",
      "Demonstração do Resultado\n",
      "Demonstração do Fluxo de Caixa\n"
     ]
    },
    {
     "name": "stderr",
     "output_type": "stream",
     "text": [
      "/Library/Frameworks/Python.framework/Versions/3.11/lib/python3.11/site-packages/brfinance/responses.py:127: FutureWarning: DataFrame.set_axis 'inplace' keyword is deprecated and will be removed in a future version. Use `obj = obj.set_axis(..., copy=False)` instead\n",
      "  df.set_axis([*df.columns[:-1], 'Valor'], axis=1, inplace=True)\n",
      "/Library/Frameworks/Python.framework/Versions/3.11/lib/python3.11/site-packages/brfinance/responses.py:127: FutureWarning: DataFrame.set_axis 'inplace' keyword is deprecated and will be removed in a future version. Use `obj = obj.set_axis(..., copy=False)` instead\n",
      "  df.set_axis([*df.columns[:-1], 'Valor'], axis=1, inplace=True)\n",
      "/Library/Frameworks/Python.framework/Versions/3.11/lib/python3.11/site-packages/brfinance/responses.py:127: FutureWarning: DataFrame.set_axis 'inplace' keyword is deprecated and will be removed in a future version. Use `obj = obj.set_axis(..., copy=False)` instead\n",
      "  df.set_axis([*df.columns[:-1], 'Valor'], axis=1, inplace=True)\n",
      "/Library/Frameworks/Python.framework/Versions/3.11/lib/python3.11/site-packages/brfinance/responses.py:127: FutureWarning: DataFrame.set_axis 'inplace' keyword is deprecated and will be removed in a future version. Use `obj = obj.set_axis(..., copy=False)` instead\n",
      "  df.set_axis([*df.columns[:-1], 'Valor'], axis=1, inplace=True)\n"
     ]
    },
    {
     "name": "stdout",
     "output_type": "stream",
     "text": [
      "Balanço Patrimonial Ativo\n",
      "Balanço Patrimonial Passivo\n",
      "Demonstração do Resultado\n",
      "Demonstração do Fluxo de Caixa\n"
     ]
    },
    {
     "name": "stderr",
     "output_type": "stream",
     "text": [
      "/Library/Frameworks/Python.framework/Versions/3.11/lib/python3.11/site-packages/brfinance/responses.py:127: FutureWarning: DataFrame.set_axis 'inplace' keyword is deprecated and will be removed in a future version. Use `obj = obj.set_axis(..., copy=False)` instead\n",
      "  df.set_axis([*df.columns[:-1], 'Valor'], axis=1, inplace=True)\n",
      "/Library/Frameworks/Python.framework/Versions/3.11/lib/python3.11/site-packages/brfinance/responses.py:127: FutureWarning: DataFrame.set_axis 'inplace' keyword is deprecated and will be removed in a future version. Use `obj = obj.set_axis(..., copy=False)` instead\n",
      "  df.set_axis([*df.columns[:-1], 'Valor'], axis=1, inplace=True)\n",
      "/Library/Frameworks/Python.framework/Versions/3.11/lib/python3.11/site-packages/brfinance/responses.py:127: FutureWarning: DataFrame.set_axis 'inplace' keyword is deprecated and will be removed in a future version. Use `obj = obj.set_axis(..., copy=False)` instead\n",
      "  df.set_axis([*df.columns[:-1], 'Valor'], axis=1, inplace=True)\n",
      "/Library/Frameworks/Python.framework/Versions/3.11/lib/python3.11/site-packages/brfinance/responses.py:127: FutureWarning: DataFrame.set_axis 'inplace' keyword is deprecated and will be removed in a future version. Use `obj = obj.set_axis(..., copy=False)` instead\n",
      "  df.set_axis([*df.columns[:-1], 'Valor'], axis=1, inplace=True)\n"
     ]
    },
    {
     "name": "stdout",
     "output_type": "stream",
     "text": [
      "Balanço Patrimonial Ativo\n",
      "Balanço Patrimonial Passivo\n",
      "Demonstração do Resultado\n",
      "Demonstração do Fluxo de Caixa\n"
     ]
    },
    {
     "name": "stderr",
     "output_type": "stream",
     "text": [
      "/Library/Frameworks/Python.framework/Versions/3.11/lib/python3.11/site-packages/brfinance/responses.py:127: FutureWarning: DataFrame.set_axis 'inplace' keyword is deprecated and will be removed in a future version. Use `obj = obj.set_axis(..., copy=False)` instead\n",
      "  df.set_axis([*df.columns[:-1], 'Valor'], axis=1, inplace=True)\n",
      "/Library/Frameworks/Python.framework/Versions/3.11/lib/python3.11/site-packages/brfinance/responses.py:127: FutureWarning: DataFrame.set_axis 'inplace' keyword is deprecated and will be removed in a future version. Use `obj = obj.set_axis(..., copy=False)` instead\n",
      "  df.set_axis([*df.columns[:-1], 'Valor'], axis=1, inplace=True)\n",
      "/Library/Frameworks/Python.framework/Versions/3.11/lib/python3.11/site-packages/brfinance/responses.py:127: FutureWarning: DataFrame.set_axis 'inplace' keyword is deprecated and will be removed in a future version. Use `obj = obj.set_axis(..., copy=False)` instead\n",
      "  df.set_axis([*df.columns[:-1], 'Valor'], axis=1, inplace=True)\n",
      "/Library/Frameworks/Python.framework/Versions/3.11/lib/python3.11/site-packages/brfinance/responses.py:127: FutureWarning: DataFrame.set_axis 'inplace' keyword is deprecated and will be removed in a future version. Use `obj = obj.set_axis(..., copy=False)` instead\n",
      "  df.set_axis([*df.columns[:-1], 'Valor'], axis=1, inplace=True)\n"
     ]
    },
    {
     "name": "stdout",
     "output_type": "stream",
     "text": [
      "Balanço Patrimonial Ativo\n",
      "Balanço Patrimonial Passivo\n",
      "Demonstração do Resultado\n",
      "Demonstração do Fluxo de Caixa\n"
     ]
    },
    {
     "name": "stderr",
     "output_type": "stream",
     "text": [
      "/Library/Frameworks/Python.framework/Versions/3.11/lib/python3.11/site-packages/brfinance/responses.py:127: FutureWarning: DataFrame.set_axis 'inplace' keyword is deprecated and will be removed in a future version. Use `obj = obj.set_axis(..., copy=False)` instead\n",
      "  df.set_axis([*df.columns[:-1], 'Valor'], axis=1, inplace=True)\n",
      "/Library/Frameworks/Python.framework/Versions/3.11/lib/python3.11/site-packages/brfinance/responses.py:127: FutureWarning: DataFrame.set_axis 'inplace' keyword is deprecated and will be removed in a future version. Use `obj = obj.set_axis(..., copy=False)` instead\n",
      "  df.set_axis([*df.columns[:-1], 'Valor'], axis=1, inplace=True)\n",
      "/Library/Frameworks/Python.framework/Versions/3.11/lib/python3.11/site-packages/brfinance/responses.py:127: FutureWarning: DataFrame.set_axis 'inplace' keyword is deprecated and will be removed in a future version. Use `obj = obj.set_axis(..., copy=False)` instead\n",
      "  df.set_axis([*df.columns[:-1], 'Valor'], axis=1, inplace=True)\n",
      "/Library/Frameworks/Python.framework/Versions/3.11/lib/python3.11/site-packages/brfinance/responses.py:127: FutureWarning: DataFrame.set_axis 'inplace' keyword is deprecated and will be removed in a future version. Use `obj = obj.set_axis(..., copy=False)` instead\n",
      "  df.set_axis([*df.columns[:-1], 'Valor'], axis=1, inplace=True)\n"
     ]
    },
    {
     "name": "stdout",
     "output_type": "stream",
     "text": [
      "Balanço Patrimonial Ativo\n",
      "Balanço Patrimonial Passivo\n",
      "Demonstração do Resultado\n",
      "Demonstração do Fluxo de Caixa\n"
     ]
    },
    {
     "name": "stderr",
     "output_type": "stream",
     "text": [
      "/Library/Frameworks/Python.framework/Versions/3.11/lib/python3.11/site-packages/brfinance/responses.py:127: FutureWarning: DataFrame.set_axis 'inplace' keyword is deprecated and will be removed in a future version. Use `obj = obj.set_axis(..., copy=False)` instead\n",
      "  df.set_axis([*df.columns[:-1], 'Valor'], axis=1, inplace=True)\n",
      "/Library/Frameworks/Python.framework/Versions/3.11/lib/python3.11/site-packages/brfinance/responses.py:127: FutureWarning: DataFrame.set_axis 'inplace' keyword is deprecated and will be removed in a future version. Use `obj = obj.set_axis(..., copy=False)` instead\n",
      "  df.set_axis([*df.columns[:-1], 'Valor'], axis=1, inplace=True)\n",
      "/Library/Frameworks/Python.framework/Versions/3.11/lib/python3.11/site-packages/brfinance/responses.py:127: FutureWarning: DataFrame.set_axis 'inplace' keyword is deprecated and will be removed in a future version. Use `obj = obj.set_axis(..., copy=False)` instead\n",
      "  df.set_axis([*df.columns[:-1], 'Valor'], axis=1, inplace=True)\n",
      "/Library/Frameworks/Python.framework/Versions/3.11/lib/python3.11/site-packages/brfinance/responses.py:127: FutureWarning: DataFrame.set_axis 'inplace' keyword is deprecated and will be removed in a future version. Use `obj = obj.set_axis(..., copy=False)` instead\n",
      "  df.set_axis([*df.columns[:-1], 'Valor'], axis=1, inplace=True)\n"
     ]
    },
    {
     "name": "stdout",
     "output_type": "stream",
     "text": [
      "Balanço Patrimonial Ativo\n",
      "Balanço Patrimonial Passivo\n",
      "Demonstração do Resultado\n",
      "Demonstração do Fluxo de Caixa\n"
     ]
    },
    {
     "name": "stderr",
     "output_type": "stream",
     "text": [
      "/Library/Frameworks/Python.framework/Versions/3.11/lib/python3.11/site-packages/brfinance/responses.py:127: FutureWarning: DataFrame.set_axis 'inplace' keyword is deprecated and will be removed in a future version. Use `obj = obj.set_axis(..., copy=False)` instead\n",
      "  df.set_axis([*df.columns[:-1], 'Valor'], axis=1, inplace=True)\n",
      "/Library/Frameworks/Python.framework/Versions/3.11/lib/python3.11/site-packages/brfinance/responses.py:127: FutureWarning: DataFrame.set_axis 'inplace' keyword is deprecated and will be removed in a future version. Use `obj = obj.set_axis(..., copy=False)` instead\n",
      "  df.set_axis([*df.columns[:-1], 'Valor'], axis=1, inplace=True)\n",
      "/Library/Frameworks/Python.framework/Versions/3.11/lib/python3.11/site-packages/brfinance/responses.py:127: FutureWarning: DataFrame.set_axis 'inplace' keyword is deprecated and will be removed in a future version. Use `obj = obj.set_axis(..., copy=False)` instead\n",
      "  df.set_axis([*df.columns[:-1], 'Valor'], axis=1, inplace=True)\n",
      "/Library/Frameworks/Python.framework/Versions/3.11/lib/python3.11/site-packages/brfinance/responses.py:127: FutureWarning: DataFrame.set_axis 'inplace' keyword is deprecated and will be removed in a future version. Use `obj = obj.set_axis(..., copy=False)` instead\n",
      "  df.set_axis([*df.columns[:-1], 'Valor'], axis=1, inplace=True)\n"
     ]
    },
    {
     "name": "stdout",
     "output_type": "stream",
     "text": [
      "Balanço Patrimonial Ativo\n",
      "Balanço Patrimonial Passivo\n",
      "Demonstração do Resultado\n",
      "Demonstração do Fluxo de Caixa\n"
     ]
    },
    {
     "name": "stderr",
     "output_type": "stream",
     "text": [
      "/Library/Frameworks/Python.framework/Versions/3.11/lib/python3.11/site-packages/brfinance/responses.py:127: FutureWarning: DataFrame.set_axis 'inplace' keyword is deprecated and will be removed in a future version. Use `obj = obj.set_axis(..., copy=False)` instead\n",
      "  df.set_axis([*df.columns[:-1], 'Valor'], axis=1, inplace=True)\n",
      "/Library/Frameworks/Python.framework/Versions/3.11/lib/python3.11/site-packages/brfinance/responses.py:127: FutureWarning: DataFrame.set_axis 'inplace' keyword is deprecated and will be removed in a future version. Use `obj = obj.set_axis(..., copy=False)` instead\n",
      "  df.set_axis([*df.columns[:-1], 'Valor'], axis=1, inplace=True)\n",
      "/Library/Frameworks/Python.framework/Versions/3.11/lib/python3.11/site-packages/brfinance/responses.py:127: FutureWarning: DataFrame.set_axis 'inplace' keyword is deprecated and will be removed in a future version. Use `obj = obj.set_axis(..., copy=False)` instead\n",
      "  df.set_axis([*df.columns[:-1], 'Valor'], axis=1, inplace=True)\n",
      "/Library/Frameworks/Python.framework/Versions/3.11/lib/python3.11/site-packages/brfinance/responses.py:127: FutureWarning: DataFrame.set_axis 'inplace' keyword is deprecated and will be removed in a future version. Use `obj = obj.set_axis(..., copy=False)` instead\n",
      "  df.set_axis([*df.columns[:-1], 'Valor'], axis=1, inplace=True)\n"
     ]
    },
    {
     "name": "stdout",
     "output_type": "stream",
     "text": [
      "Balanço Patrimonial Ativo\n",
      "Balanço Patrimonial Passivo\n",
      "Demonstração do Resultado\n",
      "Demonstração do Fluxo de Caixa\n"
     ]
    },
    {
     "name": "stderr",
     "output_type": "stream",
     "text": [
      "/Library/Frameworks/Python.framework/Versions/3.11/lib/python3.11/site-packages/brfinance/responses.py:127: FutureWarning: DataFrame.set_axis 'inplace' keyword is deprecated and will be removed in a future version. Use `obj = obj.set_axis(..., copy=False)` instead\n",
      "  df.set_axis([*df.columns[:-1], 'Valor'], axis=1, inplace=True)\n",
      "/Library/Frameworks/Python.framework/Versions/3.11/lib/python3.11/site-packages/brfinance/responses.py:127: FutureWarning: DataFrame.set_axis 'inplace' keyword is deprecated and will be removed in a future version. Use `obj = obj.set_axis(..., copy=False)` instead\n",
      "  df.set_axis([*df.columns[:-1], 'Valor'], axis=1, inplace=True)\n",
      "/Library/Frameworks/Python.framework/Versions/3.11/lib/python3.11/site-packages/brfinance/responses.py:127: FutureWarning: DataFrame.set_axis 'inplace' keyword is deprecated and will be removed in a future version. Use `obj = obj.set_axis(..., copy=False)` instead\n",
      "  df.set_axis([*df.columns[:-1], 'Valor'], axis=1, inplace=True)\n",
      "/Library/Frameworks/Python.framework/Versions/3.11/lib/python3.11/site-packages/brfinance/responses.py:127: FutureWarning: DataFrame.set_axis 'inplace' keyword is deprecated and will be removed in a future version. Use `obj = obj.set_axis(..., copy=False)` instead\n",
      "  df.set_axis([*df.columns[:-1], 'Valor'], axis=1, inplace=True)\n"
     ]
    },
    {
     "name": "stdout",
     "output_type": "stream",
     "text": [
      "Balanço Patrimonial Ativo\n",
      "Balanço Patrimonial Passivo\n",
      "Demonstração do Resultado\n",
      "Demonstração do Fluxo de Caixa\n"
     ]
    },
    {
     "name": "stderr",
     "output_type": "stream",
     "text": [
      "/Library/Frameworks/Python.framework/Versions/3.11/lib/python3.11/site-packages/brfinance/responses.py:127: FutureWarning: DataFrame.set_axis 'inplace' keyword is deprecated and will be removed in a future version. Use `obj = obj.set_axis(..., copy=False)` instead\n",
      "  df.set_axis([*df.columns[:-1], 'Valor'], axis=1, inplace=True)\n",
      "/Library/Frameworks/Python.framework/Versions/3.11/lib/python3.11/site-packages/brfinance/responses.py:127: FutureWarning: DataFrame.set_axis 'inplace' keyword is deprecated and will be removed in a future version. Use `obj = obj.set_axis(..., copy=False)` instead\n",
      "  df.set_axis([*df.columns[:-1], 'Valor'], axis=1, inplace=True)\n",
      "/Library/Frameworks/Python.framework/Versions/3.11/lib/python3.11/site-packages/brfinance/responses.py:127: FutureWarning: DataFrame.set_axis 'inplace' keyword is deprecated and will be removed in a future version. Use `obj = obj.set_axis(..., copy=False)` instead\n",
      "  df.set_axis([*df.columns[:-1], 'Valor'], axis=1, inplace=True)\n",
      "/Library/Frameworks/Python.framework/Versions/3.11/lib/python3.11/site-packages/brfinance/responses.py:127: FutureWarning: DataFrame.set_axis 'inplace' keyword is deprecated and will be removed in a future version. Use `obj = obj.set_axis(..., copy=False)` instead\n",
      "  df.set_axis([*df.columns[:-1], 'Valor'], axis=1, inplace=True)\n"
     ]
    },
    {
     "name": "stdout",
     "output_type": "stream",
     "text": [
      "Balanço Patrimonial Ativo\n",
      "Balanço Patrimonial Passivo\n",
      "Demonstração do Resultado\n",
      "Demonstração do Fluxo de Caixa\n"
     ]
    },
    {
     "name": "stderr",
     "output_type": "stream",
     "text": [
      "/Library/Frameworks/Python.framework/Versions/3.11/lib/python3.11/site-packages/brfinance/responses.py:127: FutureWarning: DataFrame.set_axis 'inplace' keyword is deprecated and will be removed in a future version. Use `obj = obj.set_axis(..., copy=False)` instead\n",
      "  df.set_axis([*df.columns[:-1], 'Valor'], axis=1, inplace=True)\n",
      "/Library/Frameworks/Python.framework/Versions/3.11/lib/python3.11/site-packages/brfinance/responses.py:127: FutureWarning: DataFrame.set_axis 'inplace' keyword is deprecated and will be removed in a future version. Use `obj = obj.set_axis(..., copy=False)` instead\n",
      "  df.set_axis([*df.columns[:-1], 'Valor'], axis=1, inplace=True)\n",
      "/Library/Frameworks/Python.framework/Versions/3.11/lib/python3.11/site-packages/brfinance/responses.py:127: FutureWarning: DataFrame.set_axis 'inplace' keyword is deprecated and will be removed in a future version. Use `obj = obj.set_axis(..., copy=False)` instead\n",
      "  df.set_axis([*df.columns[:-1], 'Valor'], axis=1, inplace=True)\n",
      "/Library/Frameworks/Python.framework/Versions/3.11/lib/python3.11/site-packages/brfinance/responses.py:127: FutureWarning: DataFrame.set_axis 'inplace' keyword is deprecated and will be removed in a future version. Use `obj = obj.set_axis(..., copy=False)` instead\n",
      "  df.set_axis([*df.columns[:-1], 'Valor'], axis=1, inplace=True)\n"
     ]
    },
    {
     "name": "stdout",
     "output_type": "stream",
     "text": [
      "Balanço Patrimonial Ativo\n",
      "Balanço Patrimonial Passivo\n",
      "Demonstração do Resultado\n",
      "Demonstração do Fluxo de Caixa\n"
     ]
    },
    {
     "name": "stderr",
     "output_type": "stream",
     "text": [
      "/Library/Frameworks/Python.framework/Versions/3.11/lib/python3.11/site-packages/brfinance/responses.py:127: FutureWarning: DataFrame.set_axis 'inplace' keyword is deprecated and will be removed in a future version. Use `obj = obj.set_axis(..., copy=False)` instead\n",
      "  df.set_axis([*df.columns[:-1], 'Valor'], axis=1, inplace=True)\n",
      "/Library/Frameworks/Python.framework/Versions/3.11/lib/python3.11/site-packages/brfinance/responses.py:127: FutureWarning: DataFrame.set_axis 'inplace' keyword is deprecated and will be removed in a future version. Use `obj = obj.set_axis(..., copy=False)` instead\n",
      "  df.set_axis([*df.columns[:-1], 'Valor'], axis=1, inplace=True)\n",
      "/Library/Frameworks/Python.framework/Versions/3.11/lib/python3.11/site-packages/brfinance/responses.py:127: FutureWarning: DataFrame.set_axis 'inplace' keyword is deprecated and will be removed in a future version. Use `obj = obj.set_axis(..., copy=False)` instead\n",
      "  df.set_axis([*df.columns[:-1], 'Valor'], axis=1, inplace=True)\n",
      "/Library/Frameworks/Python.framework/Versions/3.11/lib/python3.11/site-packages/brfinance/responses.py:127: FutureWarning: DataFrame.set_axis 'inplace' keyword is deprecated and will be removed in a future version. Use `obj = obj.set_axis(..., copy=False)` instead\n",
      "  df.set_axis([*df.columns[:-1], 'Valor'], axis=1, inplace=True)\n"
     ]
    },
    {
     "name": "stdout",
     "output_type": "stream",
     "text": [
      "Balanço Patrimonial Ativo\n",
      "Balanço Patrimonial Passivo\n",
      "Demonstração do Resultado\n",
      "Demonstração do Fluxo de Caixa\n"
     ]
    }
   ],
   "source": [
    "from brfinance import CVMAsyncBackend\n",
    "import pandas as pd\n",
    "from datetime import datetime, date\n",
    "\n",
    "cvm_httpclient = CVMAsyncBackend()\n",
    "\n",
    "# Dict de códigos CVM para todas as empresas\n",
    "cvm_codes = cvm_httpclient.get_cvm_codes()\n",
    "\n",
    "# Dict de todas as categorias de busca disponíveis (Fato relevante, DFP, ITR, etc.)\n",
    "categories = cvm_httpclient.get_consulta_externa_cvm_categories()\n",
    "\n",
    "# Realizando busca por Empresa\n",
    "ano = int(input(\"Qual o ano inicial para a pesquisa? \"))\n",
    "start_date = date(ano, 12, 31)\n",
    "end_dt = date.today()\n",
    "cvm_codes_list = ['21067'] # Moura_Dubeux\n",
    "category = [\"EST_4\"] # Códigos de categoria para DFP, ITR e fatos relevantes #, \"EST_3\", \"IPE_4_-1_-1\"\n",
    "last_ref_date = False # Se \"True\" retorna apenas o último report no intervalo de datas\n",
    "\n",
    "# Criar um dataframe vazio para armazenar os dados\n",
    "df_concat = pd.DataFrame()\n",
    "\n",
    "# Busca\n",
    "search_result = cvm_httpclient.get_consulta_externa_cvm_results(\n",
    "    cod_cvm=cvm_codes_list,\n",
    "    start_date=start_date,\n",
    "    end_date=end_dt,\n",
    "    last_ref_date=last_ref_date,\n",
    "    category=category\n",
    "    )\n",
    "\n",
    "# Filtrar dataframe de busca para DFP e Status Ativo\n",
    "search_result = search_result[\n",
    "    (search_result['categoria']==\"DFP - Demonstrações Financeiras Padronizadas\")]\n",
    "search_result = search_result[search_result['status']==\"Ativo\"]\n",
    "search_result = search_result[pd.to_numeric(search_result['numero_seq_documento'], errors='coerce').notnull()]\n",
    "\n",
    "reports_list = [\n",
    "    'Balanço Patrimonial Ativo',\n",
    "    'Balanço Patrimonial Passivo',\n",
    "    'Demonstração do Resultado',\n",
    "    'Demonstração do Fluxo de Caixa'] # Se None retorna todos os demonstrativos disponíveis.\n",
    "\n",
    "# Obter demonstrativos\n",
    "for index, row in search_result.iterrows():\n",
    "    empresa = f\"{row['cod_cvm']} - {cvm_codes[row['cod_cvm']]}\"\n",
    "\n",
    "    reports = cvm_httpclient.get_report(row[\"numero_seq_documento\"], row[\"codigo_tipo_instituicao\"], reports_list=reports_list)\n",
    "\n",
    "    for report in reports:\n",
    "        print(report)\n",
    "        reports[report][\"cod_cvm\"] = row[\"cod_cvm\"]\n",
    "        \n",
    "        # Concatenar os dados de todos os anos em um único dataframe\n",
    "        df_concat = pd.concat([df_concat, reports[report]], axis=0)\n",
    "\n",
    "\n",
    "        # Salvar o dataframe no arquivo excel, repetindo as linhas das DFPs conforme os anos do filtro\n",
    "df_concat.to_excel('Dados_CVM.xlsx', index=False)\n",
    "\n",
    "# Criar pivot table\n",
    "pivot_table = pd.pivot_table(df_concat, index=[\"Conta\", \"Descrição\"], values=[\"Valor\"], aggfunc=lambda x: \"\\n\".join(str(i) for i in x))\n",
    "\n",
    "# Salvar pivot table em um arquivo Excel\n",
    "pivot_table.to_excel(\"pivot_table.xlsx\")\n",
    "\n",
    "# Carregar o arquivo pivot_table.xlsx em um DataFrame pandas\n",
    "df_pivot = pd.read_excel('pivot_table.xlsx')\n",
    "\n",
    "# Obter o número máximo de valores em uma única célula \"Valor\" em todo o DataFrame\n",
    "max_values = int(df_pivot['Valor'].str.count('\\n').max()) + 1\n",
    "value_cols = [f'{ano+i}' for i in reversed(range(max_values))]\n",
    "ano = ano-max_values-1 # move this line after value_cols is created\n",
    "df_pivot[value_cols] = df_pivot['Valor'].str.split('\\n', expand=True)\n",
    "\n",
    "# Separar os valores da coluna \"Valor\" em colunas separadas\n",
    "df_pivot[value_cols] = df_pivot['Valor'].str.split('\\n', expand=True)\n",
    "\n",
    "# Remover a coluna \"Valor\" original\n",
    "df_pivot = df_pivot.drop(columns=['Valor'])\n",
    "\n",
    "# Ordenar colunas em ordem crescente, mantendo as duas primeiras colunas\n",
    "all_cols = list(df_pivot.columns)\n",
    "ordered_cols = all_cols[:2] + sorted(all_cols[2:])\n",
    "\n",
    "# Reagrupamento das colunas no DataFrame\n",
    "df_pivot = df_pivot.reindex(columns=ordered_cols)\n",
    "\n",
    "# Salvar o DataFrame atualizado em um arquivo Excel\n",
    "df_pivot.to_excel('pivot_table_updated.xlsx', index=False)\n",
    "\n",
    "\n",
    "\n"
   ]
  },
  {
   "cell_type": "code",
   "execution_count": null,
   "id": "fb1e27f2",
   "metadata": {},
   "outputs": [],
   "source": []
  },
  {
   "cell_type": "code",
   "execution_count": null,
   "id": "3b13703d",
   "metadata": {},
   "outputs": [],
   "source": []
  },
  {
   "cell_type": "code",
   "execution_count": null,
   "id": "4b083815",
   "metadata": {},
   "outputs": [],
   "source": []
  },
  {
   "cell_type": "code",
   "execution_count": null,
   "id": "65361d0b",
   "metadata": {},
   "outputs": [],
   "source": []
  },
  {
   "cell_type": "code",
   "execution_count": null,
   "id": "7201d4e4",
   "metadata": {},
   "outputs": [],
   "source": []
  },
  {
   "cell_type": "code",
   "execution_count": 2,
   "id": "52f059a0",
   "metadata": {},
   "outputs": [
    {
     "name": "stdout",
     "output_type": "stream",
     "text": [
      "Collecting openpyxl\n",
      "  Downloading openpyxl-3.1.2-py2.py3-none-any.whl (249 kB)\n",
      "\u001b[2K     \u001b[90m━━━━━━━━━━━━━━━━━━━━━━━━━━━━━━━━━━━━━━━\u001b[0m \u001b[32m250.0/250.0 kB\u001b[0m \u001b[31m5.0 MB/s\u001b[0m eta \u001b[36m0:00:00\u001b[0ma \u001b[36m0:00:01\u001b[0m\n",
      "\u001b[?25hCollecting et-xmlfile\n",
      "  Downloading et_xmlfile-1.1.0-py3-none-any.whl (4.7 kB)\n",
      "Installing collected packages: et-xmlfile, openpyxl\n",
      "Successfully installed et-xmlfile-1.1.0 openpyxl-3.1.2\n",
      "Note: you may need to restart the kernel to use updated packages.\n"
     ]
    }
   ],
   "source": [
    "pip install openpyxl"
   ]
  }
 ],
 "metadata": {
  "kernelspec": {
   "display_name": "Python 3 (ipykernel)",
   "language": "python",
   "name": "python3"
  },
  "language_info": {
   "codemirror_mode": {
    "name": "ipython",
    "version": 3
   },
   "file_extension": ".py",
   "mimetype": "text/x-python",
   "name": "python",
   "nbconvert_exporter": "python",
   "pygments_lexer": "ipython3",
   "version": "3.11.2"
  }
 },
 "nbformat": 4,
 "nbformat_minor": 5
}
